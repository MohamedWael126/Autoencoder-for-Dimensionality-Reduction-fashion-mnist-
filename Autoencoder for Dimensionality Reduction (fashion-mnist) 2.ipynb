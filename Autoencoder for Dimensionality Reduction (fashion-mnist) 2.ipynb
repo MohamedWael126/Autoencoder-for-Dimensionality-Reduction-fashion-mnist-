{
 "cells": [
  {
   "cell_type": "code",
   "execution_count": 1,
   "id": "18c6cbad",
   "metadata": {},
   "outputs": [
    {
     "name": "stdout",
     "output_type": "stream",
     "text": [
      "3.9.12\n"
     ]
    }
   ],
   "source": [
    "from platform import python_version\n",
    "\n",
    "print(python_version())"
   ]
  },
  {
   "cell_type": "code",
   "execution_count": 3,
   "id": "21699068",
   "metadata": {},
   "outputs": [],
   "source": [
    "import numpy as np\n",
    "import matplotlib.pyplot as plt\n",
    "from tensorflow import keras\n",
    "from tensorflow.keras.datasets import fashion_mnist"
   ]
  },
  {
   "cell_type": "code",
   "execution_count": 4,
   "id": "577ca37f",
   "metadata": {},
   "outputs": [],
   "source": [
    "from keras.layers import Input, Dense , Flatten\n",
    "from keras.models import Model\n",
    "from keras import layers"
   ]
  },
  {
   "cell_type": "code",
   "execution_count": 5,
   "id": "b2109b55",
   "metadata": {},
   "outputs": [],
   "source": [
    "(x_train, y_train), (x_test, y_test) = fashion_mnist.load_data()"
   ]
  },
  {
   "cell_type": "code",
   "execution_count": 6,
   "id": "61cac5b9",
   "metadata": {},
   "outputs": [],
   "source": [
    "x_train = x_train.astype('float32') / 255.\n",
    "x_test = x_test.astype('float32') / 255."
   ]
  },
  {
   "cell_type": "code",
   "execution_count": 25,
   "id": "1656abaa",
   "metadata": {},
   "outputs": [],
   "source": [
    "from tensorflow.keras.utils import to_categorical\n",
    "\n",
    "y_train= to_categorical(y_train)\n",
    "y_test= to_categorical(y_test)"
   ]
  },
  {
   "cell_type": "code",
   "execution_count": 7,
   "id": "716c0fa5",
   "metadata": {},
   "outputs": [
    {
     "data": {
      "text/plain": [
       "(28, 28)"
      ]
     },
     "execution_count": 7,
     "metadata": {},
     "output_type": "execute_result"
    }
   ],
   "source": [
    "x_train[0].shape"
   ]
  },
  {
   "cell_type": "code",
   "execution_count": 8,
   "id": "6bb02fcd",
   "metadata": {},
   "outputs": [],
   "source": [
    "input_dim = 784\n",
    "\n",
    "\n",
    "input_layer = keras.Input(shape=(28,28))\n",
    "\n",
    "encoder = Flatten()(input_layer)\n",
    "encoder = layers.Dense(512, activation='relu')(encoder)\n",
    "encoder = layers.Dense(256, activation='relu')(encoder)\n",
    "encoder = layers.Dense(128, activation='relu')(encoder)\n",
    "encoder = layers.Dense(64, activation='relu')(encoder)\n",
    "encoder = layers.Dense(32, activation='relu')(encoder)\n",
    "\n",
    "\n",
    "decoder = layers.Dense(64, activation='relu')(encoder)\n",
    "decoder = layers.Dense(128, activation='relu')(decoder)\n",
    "decoder = layers.Dense(256, activation='relu')(decoder)\n",
    "decoder = layers.Dense(512, activation='relu')(decoder)\n",
    "decoder = layers.Dense(784, activation='sigmoid')(decoder)\n",
    "\n",
    "\n",
    "decoder = keras.layers.Reshape([28,28])(decoder)\n",
    "\n",
    "\n",
    "autoencoder = keras.models.Model(inputs=input_layer, outputs=decoder)\n",
    "\n",
    "\n",
    "autoencoder.compile(optimizer='adam', loss='binary_crossentropy' , metrics='accuracy')"
   ]
  },
  {
   "cell_type": "code",
   "execution_count": 9,
   "id": "67b015db",
   "metadata": {
    "scrolled": true
   },
   "outputs": [
    {
     "name": "stdout",
     "output_type": "stream",
     "text": [
      "Model: \"model\"\n",
      "_________________________________________________________________\n",
      " Layer (type)                Output Shape              Param #   \n",
      "=================================================================\n",
      " input_1 (InputLayer)        [(None, 28, 28)]          0         \n",
      "                                                                 \n",
      " flatten (Flatten)           (None, 784)               0         \n",
      "                                                                 \n",
      " dense (Dense)               (None, 512)               401920    \n",
      "                                                                 \n",
      " dense_1 (Dense)             (None, 256)               131328    \n",
      "                                                                 \n",
      " dense_2 (Dense)             (None, 128)               32896     \n",
      "                                                                 \n",
      " dense_3 (Dense)             (None, 64)                8256      \n",
      "                                                                 \n",
      " dense_4 (Dense)             (None, 32)                2080      \n",
      "                                                                 \n",
      " dense_5 (Dense)             (None, 64)                2112      \n",
      "                                                                 \n",
      " dense_6 (Dense)             (None, 128)               8320      \n",
      "                                                                 \n",
      " dense_7 (Dense)             (None, 256)               33024     \n",
      "                                                                 \n",
      " dense_8 (Dense)             (None, 512)               131584    \n",
      "                                                                 \n",
      " dense_9 (Dense)             (None, 784)               402192    \n",
      "                                                                 \n",
      " reshape (Reshape)           (None, 28, 28)            0         \n",
      "                                                                 \n",
      "=================================================================\n",
      "Total params: 1,153,712\n",
      "Trainable params: 1,153,712\n",
      "Non-trainable params: 0\n",
      "_________________________________________________________________\n"
     ]
    }
   ],
   "source": [
    "autoencoder.summary()"
   ]
  },
  {
   "cell_type": "code",
   "execution_count": 10,
   "id": "dfaeb32c",
   "metadata": {},
   "outputs": [
    {
     "name": "stdout",
     "output_type": "stream",
     "text": [
      "Epoch 1/10\n",
      "1875/1875 [==============================] - 36s 17ms/step - loss: 0.3204 - accuracy: 0.0951 - val_loss: 0.3020 - val_accuracy: 0.1112\n",
      "Epoch 2/10\n",
      "1875/1875 [==============================] - 30s 16ms/step - loss: 0.2941 - accuracy: 0.1334 - val_loss: 0.2914 - val_accuracy: 0.1426\n",
      "Epoch 3/10\n",
      "1875/1875 [==============================] - 31s 17ms/step - loss: 0.2874 - accuracy: 0.1533 - val_loss: 0.2881 - val_accuracy: 0.1577\n",
      "Epoch 4/10\n",
      "1875/1875 [==============================] - 31s 16ms/step - loss: 0.2844 - accuracy: 0.1649 - val_loss: 0.2861 - val_accuracy: 0.1733\n",
      "Epoch 5/10\n",
      "1875/1875 [==============================] - 32s 17ms/step - loss: 0.2823 - accuracy: 0.1747 - val_loss: 0.2835 - val_accuracy: 0.1810\n",
      "Epoch 6/10\n",
      "1875/1875 [==============================] - 32s 17ms/step - loss: 0.2807 - accuracy: 0.1814 - val_loss: 0.2830 - val_accuracy: 0.1835\n",
      "Epoch 7/10\n",
      "1875/1875 [==============================] - 31s 16ms/step - loss: 0.2796 - accuracy: 0.1858 - val_loss: 0.2822 - val_accuracy: 0.1799\n",
      "Epoch 8/10\n",
      "1875/1875 [==============================] - 32s 17ms/step - loss: 0.2785 - accuracy: 0.1896 - val_loss: 0.2811 - val_accuracy: 0.1945\n",
      "Epoch 9/10\n",
      "1875/1875 [==============================] - 32s 17ms/step - loss: 0.2777 - accuracy: 0.1936 - val_loss: 0.2801 - val_accuracy: 0.1984\n",
      "Epoch 10/10\n",
      "1875/1875 [==============================] - 32s 17ms/step - loss: 0.2771 - accuracy: 0.1965 - val_loss: 0.2788 - val_accuracy: 0.1965\n"
     ]
    }
   ],
   "source": [
    "np.random.seed(42)\n",
    "\n",
    "history = autoencoder.fit(x_train, x_train,\n",
    "                          epochs=10,\n",
    "                          batch_size=32,\n",
    "                          shuffle=True,\n",
    "                          validation_data=(x_test, x_test))\n"
   ]
  },
  {
   "cell_type": "code",
   "execution_count": 11,
   "id": "539fe578",
   "metadata": {},
   "outputs": [
    {
     "name": "stdout",
     "output_type": "stream",
     "text": [
      "313/313 [==============================] - 2s 6ms/step\n",
      "1875/1875 [==============================] - 9s 5ms/step\n"
     ]
    }
   ],
   "source": [
    "x_test_encoded= autoencoder.predict(x_test)\n",
    "x_train_encoded= autoencoder.predict(x_train)\n",
    "\n"
   ]
  },
  {
   "cell_type": "code",
   "execution_count": 13,
   "id": "10fffa3d",
   "metadata": {},
   "outputs": [
    {
     "data": {
      "text/plain": [
       "<matplotlib.image.AxesImage at 0x1dea20c6790>"
      ]
     },
     "execution_count": 13,
     "metadata": {},
     "output_type": "execute_result"
    },
    {
     "data": {
      "image/png": "[encoded data removed]",
      "text/plain": [
       "<Figure size 432x288 with 1 Axes>"
      ]
     },
     "metadata": {
      "needs_background": "light"
     },
     "output_type": "display_data"
    }
   ],
   "source": [
    "plt.imshow(x_test[1]) "
   ]
  },
  {
   "cell_type": "code",
   "execution_count": 14,
   "id": "a97710bd",
   "metadata": {},
   "outputs": [
    {
     "data": {
      "text/plain": [
       "<matplotlib.image.AxesImage at 0x1deab47be20>"
      ]
     },
     "execution_count": 14,
     "metadata": {},
     "output_type": "execute_result"
    },
    {
     "data": {
      "image/png": "[encoded data removed]",
      "text/plain": [
       "<Figure size 432x288 with 1 Axes>"
      ]
     },
     "metadata": {
      "needs_background": "light"
     },
     "output_type": "display_data"
    }
   ],
   "source": [
    "plt.imshow(x_test_encoded[1].reshape(28 , 28))"
   ]
  },
  {
   "cell_type": "code",
   "execution_count": 40,
   "id": "d4f643a4",
   "metadata": {
    "scrolled": true
   },
   "outputs": [
    {
     "data": {
      "image/png": "[encoded data removed]",
      "text/plain": [
       "<Figure size 432x432 with 2 Axes>"
      ]
     },
     "metadata": {
      "needs_background": "light"
     },
     "output_type": "display_data"
    }
   ],
   "source": [
    "fig = plt.figure(figsize=(6,6))\n",
    "\n",
    "fig.add_subplot(1,2,1)\n",
    "plt.title(\"Original Image\")\n",
    "plt.imshow(x_train[1].reshape(28,28))\n",
    "plt.axis(\"off\")\n",
    "\n",
    "\n",
    "fig.add_subplot(1,2,2)\n",
    "plt.title(\"Autoencoded Image\")\n",
    "plt.imshow(x_train_encoded[1].reshape(28,28))\n",
    "plt.axis(\"off\")\n",
    "\n",
    "plt.show()"
   ]
  },
  {
   "cell_type": "code",
   "execution_count": 58,
   "id": "c93ffbbf",
   "metadata": {},
   "outputs": [
    {
     "data": {
      "image/png": "[encoded data removed]",
      "text/plain": [
       "<Figure size 1440x288 with 20 Axes>"
      ]
     },
     "metadata": {
      "needs_background": "light"
     },
     "output_type": "display_data"
    }
   ],
   "source": [
    "plt.figure(figsize=(20, 4))\n",
    "for i in range(n):\n",
    "    # Display the original image\n",
    "    ax = plt.subplot(2, n, i + 1)\n",
    "    plt.imshow(x_test[i].reshape(28, 28) , cmap='inferno')\n",
    "    ax.get_xaxis().set_visible(False)\n",
    "    ax.get_yaxis().set_visible(False)\n",
    "\n",
    "    # Display the encoded feature vector\n",
    "    ax = plt.subplot(2, n, i + n + 1)\n",
    "    plt.imshow(x_test_encoded[i].reshape(28, 28) , cmap='inferno')\n",
    "    ax.get_xaxis().set_visible(False)\n",
    "    ax.get_yaxis().set_visible(False)\n",
    "plt.show()"
   ]
  },
  {
   "cell_type": "markdown",
   "id": "224dff14",
   "metadata": {},
   "source": [
    "### Building a convolutional neural network for classification"
   ]
  },
  {
   "cell_type": "code",
   "execution_count": 35,
   "id": "f9d735a6",
   "metadata": {},
   "outputs": [],
   "source": [
    "from tensorflow.keras.models import Sequential\n",
    "from tensorflow.keras.layers import Dense, Conv2D, MaxPool2D, Flatten\n",
    "from tensorflow.keras.callbacks import EarlyStopping\n",
    "\n",
    "\n",
    "import time\n",
    "\n",
    "\n",
    "model = Sequential()\n",
    "\n",
    "\n",
    "model.add(Conv2D(filters=32, kernel_size=(3,3),input_shape=(28, 28, 1), activation='relu',))\n",
    "model.add(MaxPool2D(pool_size=(2, 2)))\n",
    "\n",
    "\n",
    "model.add(Conv2D(filters=64, kernel_size=(3,3), activation='relu',))\n",
    "model.add(MaxPool2D(pool_size=(2, 2)))\n",
    "\n",
    "\n",
    "\n",
    "\n",
    "model.add(Flatten())\n",
    "\n",
    "model.add(Dense(128, activation='relu'))\n",
    "\n",
    "model.add(Dense(10, activation='softmax'))\n",
    "\n",
    "\n",
    "\n",
    "model.compile(loss='categorical_crossentropy',\n",
    "              optimizer='adam',\n",
    "              metrics=['accuracy'])"
   ]
  },
  {
   "cell_type": "code",
   "execution_count": 36,
   "id": "26001385",
   "metadata": {},
   "outputs": [],
   "source": [
    "#early_stop = EarlyStopping(monitor='val_loss',patience=2)\n"
   ]
  },
  {
   "cell_type": "code",
   "execution_count": 37,
   "id": "a0cd5849",
   "metadata": {},
   "outputs": [
    {
     "name": "stdout",
     "output_type": "stream",
     "text": [
      "Epoch 1/10\n",
      "1875/1875 [==============================] - 26s 13ms/step - loss: 0.5038 - accuracy: 0.8153 - val_loss: 0.4607 - val_accuracy: 0.8259\n",
      "Epoch 2/10\n",
      "1875/1875 [==============================] - 22s 12ms/step - loss: 0.4020 - accuracy: 0.8485 - val_loss: 0.4210 - val_accuracy: 0.8467\n",
      "Epoch 3/10\n",
      "1875/1875 [==============================] - 24s 13ms/step - loss: 0.3765 - accuracy: 0.8571 - val_loss: 0.4144 - val_accuracy: 0.8427\n",
      "Epoch 4/10\n",
      "1875/1875 [==============================] - 24s 13ms/step - loss: 0.3598 - accuracy: 0.8632 - val_loss: 0.3900 - val_accuracy: 0.8568\n",
      "Epoch 5/10\n",
      "1875/1875 [==============================] - 24s 13ms/step - loss: 0.3463 - accuracy: 0.8676 - val_loss: 0.3810 - val_accuracy: 0.8579\n",
      "Epoch 6/10\n",
      "1875/1875 [==============================] - 23s 12ms/step - loss: 0.3345 - accuracy: 0.8727 - val_loss: 0.3867 - val_accuracy: 0.8568\n",
      "Epoch 7/10\n",
      "1875/1875 [==============================] - 22s 12ms/step - loss: 0.3238 - accuracy: 0.8773 - val_loss: 0.4003 - val_accuracy: 0.8525\n",
      "Epoch 8/10\n",
      "1875/1875 [==============================] - 25s 13ms/step - loss: 0.3145 - accuracy: 0.8800 - val_loss: 0.3817 - val_accuracy: 0.8565\n",
      "Epoch 9/10\n",
      "1875/1875 [==============================] - 26s 14ms/step - loss: 0.3044 - accuracy: 0.8827 - val_loss: 0.3768 - val_accuracy: 0.8621\n",
      "Epoch 10/10\n",
      "1875/1875 [==============================] - 23s 12ms/step - loss: 0.2960 - accuracy: 0.8844 - val_loss: 0.3830 - val_accuracy: 0.8618\n",
      "Time taken for autoencoded data is: 239.66\n"
     ]
    }
   ],
   "source": [
    "trainStart = time.time()\n",
    "\n",
    "model.fit(x_train_encoded , y_train , epochs=10, validation_data=(x_test_encoded , y_test))\n",
    "\n",
    "trainEnd = time.time()\n",
    "\n",
    "time_taken = round(trainEnd-trainStart,2)\n",
    "    \n",
    "print(f'Time taken for autoencoded data is: {time_taken}')\n"
   ]
  },
  {
   "cell_type": "code",
   "execution_count": 42,
   "id": "e4189d0f",
   "metadata": {},
   "outputs": [
    {
     "name": "stdout",
     "output_type": "stream",
     "text": [
      "['loss', 'accuracy']\n",
      "313/313 [==============================] - 1s 4ms/step - loss: 0.7760 - accuracy: 0.7983\n"
     ]
    },
    {
     "data": {
      "text/plain": [
       "[0.7760039567947388, 0.79830002784729]"
      ]
     },
     "execution_count": 42,
     "metadata": {},
     "output_type": "execute_result"
    }
   ],
   "source": [
    "\n",
    "print(model.metrics_names)\n",
    "model.evaluate(x_test_encoded , y_test)"
   ]
  }
 ],
 "metadata": {
  "kernelspec": {
   "display_name": "Python 3 (ipykernel)",
   "language": "python",
   "name": "python3"
  },
  "language_info": {
   "codemirror_mode": {
    "name": "ipython",
    "version": 3
   },
   "file_extension": ".py",
   "mimetype": "text/x-python",
   "name": "python",
   "nbconvert_exporter": "python",
   "pygments_lexer": "ipython3",
   "version": "3.9.12"
  }
 },
 "nbformat": 4,
 "nbformat_minor": 5
}
